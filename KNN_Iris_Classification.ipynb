{
 "cells": [
  {
   "cell_type": "markdown",
   "id": "827f45a5",
   "metadata": {},
   "source": [
    "# 🧠 K-Nearest Neighbors (KNN) — Iris Flower Classification\n",
    "\n",
    "This notebook demonstrates a **practical implementation** of the **K-Nearest Neighbors (KNN)** algorithm using the famous **Iris dataset**.  \n",
    "KNN is a simple yet powerful algorithm used for **classification** and **pattern recognition** tasks.\n",
    "\n",
    "---\n",
    "\n",
    "## 🎯 Objectives\n",
    "- Understand the working of KNN algorithm.\n",
    "- Apply KNN on the Iris dataset to classify flower species.\n",
    "- Visualize decision boundaries and evaluate model accuracy.\n",
    "\n",
    "---\n"
   ]
  },
  {
   "cell_type": "code",
   "execution_count": null,
   "id": "5f4d8aae",
   "metadata": {},
   "outputs": [],
   "source": [
    "# Import required libraries\n",
    "import numpy as np\n",
    "import pandas as pd\n",
    "import matplotlib.pyplot as plt\n",
    "import seaborn as sns\n",
    "from sklearn.datasets import load_iris\n",
    "from sklearn.model_selection import train_test_split\n",
    "from sklearn.preprocessing import StandardScaler\n",
    "from sklearn.neighbors import KNeighborsClassifier\n",
    "from sklearn.metrics import classification_report, confusion_matrix, accuracy_score\n",
    "\n",
    "# Ignore warnings\n",
    "import warnings\n",
    "warnings.filterwarnings('ignore')"
   ]
  },
  {
   "cell_type": "markdown",
   "id": "4a56ecca",
   "metadata": {},
   "source": [
    "## 🌸 Step 1: Load the Iris Dataset"
   ]
  },
  {
   "cell_type": "code",
   "execution_count": null,
   "id": "7fb38ac6",
   "metadata": {},
   "outputs": [],
   "source": [
    "# Load the dataset\n",
    "iris = load_iris()\n",
    "X = iris.data\n",
    "y = iris.target\n",
    "\n",
    "# Create DataFrame for visualization\n",
    "df = pd.DataFrame(X, columns=iris.feature_names)\n",
    "df['species'] = iris.target_names[y]\n",
    "\n",
    "df.head()"
   ]
  },
  {
   "cell_type": "markdown",
   "id": "f7788b21",
   "metadata": {},
   "source": [
    "## 📊 Step 2: Explore and Visualize the Data"
   ]
  },
  {
   "cell_type": "code",
   "execution_count": null,
   "id": "feba87e5",
   "metadata": {},
   "outputs": [],
   "source": [
    "# Pairplot visualization\n",
    "sns.pairplot(df, hue='species', diag_kind='hist')\n",
    "plt.suptitle(\"Iris Data Visualization\", y=1.02)\n",
    "plt.show()\n",
    "\n",
    "# Correlation Heatmap\n",
    "plt.figure(figsize=(6, 4))\n",
    "sns.heatmap(pd.DataFrame(X, columns=iris.feature_names).corr(), annot=True, cmap='coolwarm')\n",
    "plt.title(\"Feature Correlation Heatmap\")\n",
    "plt.show()"
   ]
  },
  {
   "cell_type": "markdown",
   "id": "40088309",
   "metadata": {},
   "source": [
    "## ⚙️ Step 3: Prepare the Data for Training"
   ]
  },
  {
   "cell_type": "code",
   "execution_count": null,
   "id": "ef5a21fb",
   "metadata": {},
   "outputs": [],
   "source": [
    "# Split the dataset\n",
    "X_train, X_test, y_train, y_test = train_test_split(X, y, test_size=0.2, random_state=42)\n",
    "\n",
    "# Normalize features\n",
    "scaler = StandardScaler()\n",
    "X_train_scaled = scaler.fit_transform(X_train)\n",
    "X_test_scaled = scaler.transform(X_test)\n",
    "\n",
    "print(\"Training Data Shape:\", X_train_scaled.shape)\n",
    "print(\"Testing Data Shape:\", X_test_scaled.shape)"
   ]
  },
  {
   "cell_type": "markdown",
   "id": "359e7fcf",
   "metadata": {},
   "source": [
    "## 🤖 Step 4: Train KNN Classifier"
   ]
  },
  {
   "cell_type": "code",
   "execution_count": null,
   "id": "282ee6c4",
   "metadata": {},
   "outputs": [],
   "source": [
    "# Train the model\n",
    "knn = KNeighborsClassifier(n_neighbors=5)\n",
    "knn.fit(X_train_scaled, y_train)\n",
    "\n",
    "# Predictions\n",
    "y_pred = knn.predict(X_test_scaled)\n",
    "\n",
    "# Evaluate performance\n",
    "accuracy = accuracy_score(y_test, y_pred)\n",
    "print(f\"✅ Model Accuracy: {accuracy*100:.2f}%\")"
   ]
  },
  {
   "cell_type": "markdown",
   "id": "aef2771c",
   "metadata": {},
   "source": [
    "## 📉 Step 5: Evaluate the Model"
   ]
  },
  {
   "cell_type": "code",
   "execution_count": null,
   "id": "eee9b370",
   "metadata": {},
   "outputs": [],
   "source": [
    "# Confusion Matrix and Classification Report\n",
    "cm = confusion_matrix(y_test, y_pred)\n",
    "sns.heatmap(cm, annot=True, cmap='Greens', fmt='d',\n",
    "            xticklabels=iris.target_names, yticklabels=iris.target_names)\n",
    "plt.xlabel(\"Predicted\")\n",
    "plt.ylabel(\"Actual\")\n",
    "plt.title(\"Confusion Matrix — KNN Classifier\")\n",
    "plt.show()\n",
    "\n",
    "print(\"\\nClassification Report:\")\n",
    "print(classification_report(y_test, y_pred))"
   ]
  },
  {
   "cell_type": "markdown",
   "id": "ac3685a6",
   "metadata": {},
   "source": [
    "## 🔍 Step 6: Choosing Optimal K Value"
   ]
  },
  {
   "cell_type": "code",
   "execution_count": null,
   "id": "5a3082f6",
   "metadata": {},
   "outputs": [],
   "source": [
    "# Test different K values\n",
    "k_values = range(1, 15)\n",
    "accuracies = []\n",
    "\n",
    "for k in k_values:\n",
    "    model = KNeighborsClassifier(n_neighbors=k)\n",
    "    model.fit(X_train_scaled, y_train)\n",
    "    y_pred_k = model.predict(X_test_scaled)\n",
    "    accuracies.append(accuracy_score(y_test, y_pred_k))\n",
    "\n",
    "plt.plot(k_values, accuracies, marker='o', color='blue')\n",
    "plt.title(\"Accuracy vs K Value\")\n",
    "plt.xlabel(\"Number of Neighbors (K)\")\n",
    "plt.ylabel(\"Accuracy\")\n",
    "plt.grid(True)\n",
    "plt.show()\n",
    "\n",
    "best_k = k_values[np.argmax(accuracies)]\n",
    "print(f\"🏆 Best K value: {best_k} with Accuracy: {max(accuracies)*100:.2f}%\")"
   ]
  },
  {
   "cell_type": "markdown",
   "id": "88e90544",
   "metadata": {},
   "source": [
    "## 🌼 Step 7: Predict on New Sample"
   ]
  },
  {
   "cell_type": "code",
   "execution_count": null,
   "id": "c9dea5b8",
   "metadata": {},
   "outputs": [],
   "source": [
    "# Example flower: [sepal length, sepal width, petal length, petal width]\n",
    "new_sample = np.array([[5.1, 3.5, 1.4, 0.2]])\n",
    "new_sample_scaled = scaler.transform(new_sample)\n",
    "prediction = knn.predict(new_sample_scaled)\n",
    "\n",
    "print(f\"🌸 Predicted species: {iris.target_names[prediction][0]}\")"
   ]
  },
  {
   "cell_type": "markdown",
   "id": "6d3617f7",
   "metadata": {},
   "source": [
    "---\n",
    "### ✅ Summary\n",
    "In this notebook, you learned:\n",
    "- How to apply **K-Nearest Neighbors (KNN)** for classification.\n",
    "- How to preprocess and scale data for better accuracy.\n",
    "- How to tune hyperparameters (K value) to improve model performance.\n",
    "- How to make predictions for new unseen samples.\n",
    "\n",
    "---\n"
   ]
  }
 ],
 "metadata": {},
 "nbformat": 4,
 "nbformat_minor": 5
}
